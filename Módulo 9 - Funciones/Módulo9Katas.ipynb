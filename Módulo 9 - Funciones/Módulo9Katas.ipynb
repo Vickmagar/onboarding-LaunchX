{
  "cells": [
    {
      "cell_type": "markdown",
      "metadata": {},
      "source": [
        "# Ejercicio: Uso de funciones en Python"
      ]
    },
    {
      "cell_type": "markdown",
      "metadata": {},
      "source": [
        "### Ejercicio 1: Trabajar con argumentos en funciones\n",
        "\n",
        "Los argumentos requeridos en las funciones se utilizan cuando las funciones necesitan que esos argumentos funcionen correctamente. En este ejercicio, construirás un informe de combustible que requiere información de varias ubicaciones de combustible en todo el cohete.\n",
        "\n"
      ]
    },
    {
      "cell_type": "markdown",
      "metadata": {},
      "source": [
        "Comienza por crear una función que necesite tres lecturas de combustible y devuelva un informe:"
      ]
    },
    {
      "cell_type": "code",
      "execution_count": 27,
      "metadata": {},
      "outputs": [],
      "source": [
        "# Función para leer 3 tanques de combustible y muestre el promedio\n",
        "tanque_gas = int(input(\"Ingresa el porcentaje de gas\"))\n",
        "tanque_gasolina = int(input(\"Ingresa el porcentaje de gasolina\"))\n",
        "tanque_hidrogeno = int(input(\"Ingresa el porcentaje de hidrogeno\"))\n",
        "\n",
        "def reporte_general(tanque_gas, tanque_gasolina, tanque_hidrogeno):\n",
        "    porcentaje_total = (tanque_gas + tanque_gasolina + tanque_hidrogeno) / 3\n",
        "    return f\"\"\"Reporte de combustible:\n",
        "    Porcentaje total: {porcentaje_total}%\n",
        "    Gas: {tanque_gas}%\n",
        "    Gasolina: {tanque_gasolina}%\n",
        "    Hidrogeno: {tanque_hidrogeno}% \n",
        "    \"\"\"\n",
        "\n"
      ]
    },
    {
      "cell_type": "markdown",
      "metadata": {},
      "source": [
        "Ahora que hemos definido la función de informes, vamos a comprobarlo. Para esta misión, los tanques no están llenos:"
      ]
    },
    {
      "cell_type": "code",
      "execution_count": 28,
      "metadata": {},
      "outputs": [
        {
          "name": "stdout",
          "output_type": "stream",
          "text": [
            "Reporte de combustible:\n",
            "    Porcentaje total: 10.0%\n",
            "    Gas: 10%\n",
            "    Gasolina: 10%\n",
            "    Hidrogeno: 10% \n",
            "    \n"
          ]
        }
      ],
      "source": [
        "\n",
        "# Llamamos a la función que genera el reporte print(funcion(tanque1, tanque2, tanque3))\n",
        "print(reporte_general(tanque_gas, tanque_gasolina, tanque_hidrogeno))"
      ]
    },
    {
      "cell_type": "markdown",
      "metadata": {},
      "source": [
        "En lugar de simplemente crear el informe, la función también está calculando el promedio. Mejora la legibilidad extrayendo el cálculo promedio de la función en una nueva función para que el promedio se pueda hacer de forma independiente:"
      ]
    },
    {
      "cell_type": "code",
      "execution_count": 29,
      "metadata": {},
      "outputs": [],
      "source": [
        "# Función promedio \n",
        "def porcentaje(valores):\n",
        "    total = sum(valores)\n",
        "    number_of_items = len(valores)\n",
        "    return total / number_of_items\n",
        "\n"
      ]
    },
    {
      "cell_type": "markdown",
      "metadata": {},
      "source": [
        "Ahora actualiza la función de informes para llamando a la nueva función del promedio:\n"
      ]
    },
    {
      "cell_type": "code",
      "execution_count": 30,
      "metadata": {},
      "outputs": [
        {
          "name": "stdout",
          "output_type": "stream",
          "text": [
            "Reporte de combustible:\n",
            "    Porcentaje total: 14.666666666666666%\n",
            "    Gas: 10%\n",
            "    Gasolina: 12%\n",
            "    Hidrogeno: 20% \n",
            "    \n"
          ]
        }
      ],
      "source": [
        "# Actualiza la función\n",
        "\n",
        "tanque_gas = int(input(\"Ingresa el porcentaje de gas\"))\n",
        "tanque_gasolina = int(input(\"Ingresa el porcentaje de gasolina\"))\n",
        "tanque_hidrogeno = int(input(\"Ingresa el porcentaje de hidrogeno\"))\n",
        "\n",
        "def reporte_general(tanque_gas, tanque_gasolina, tanque_hidrogeno):\n",
        "    return f\"\"\"Reporte de combustible:\n",
        "    Porcentaje total: {porcentaje([tanque_gasolina, tanque_gasolina, tanque_hidrogeno])}%\n",
        "    Gas: {tanque_gas}%\n",
        "    Gasolina: {tanque_gasolina}%\n",
        "    Hidrogeno: {tanque_hidrogeno}% \n",
        "    \"\"\"\n",
        "# Call the updated function again with different values\n",
        "print(reporte_general(tanque_gas, tanque_gasolina, tanque_hidrogeno))"
      ]
    },
    {
      "cell_type": "markdown",
      "metadata": {},
      "source": [
        "## Ejercicio 2: Trabajo con argumentos de palabra clave"
      ]
    },
    {
      "cell_type": "markdown",
      "metadata": {},
      "source": [
        "### Ejercicio : Trabajar con argumentos de palabras clave en funciones\n",
        "En este ejercicio, construirás un informe de cohete que requiere varias piezas de información, como el tiempo hasta el destino, el combustible a la izquierda y el nombre del destino. Comienza por crear una función que creará un informe preciso de la misión:"
      ]
    },
    {
      "cell_type": "code",
      "execution_count": 39,
      "metadata": {},
      "outputs": [
        {
          "name": "stdout",
          "output_type": "stream",
          "text": [
            "\n",
            "    Mision viaje  Luna\n",
            "    Tiempo total de vuelo: 74 minutos\n",
            "    Total de combustible: 1000000 gallones\n",
            "    \n"
          ]
        }
      ],
      "source": [
        "# Función con un informe preciso de la misión. Considera hora de prelanzamiento, tiempo de vuelo, destino, tanque externo y tanque interno\n",
        "def informe_mision(hora_lanzamiento, tiempo_vuelo, destino, tanque_externo, tanque_intero):\n",
        "    return f\"\"\"\n",
        "    Mision viaje  {destino}\n",
        "    Tiempo total de vuelo: {hora_lanzamiento + tiempo_vuelo} minutos\n",
        "    Total de combustible: {tanque_externo + tanque_intero} gallones\n",
        "    \"\"\"\n",
        "\n",
        "print(informe_mision(14, 60, \"Luna\", 500000, 500000))"
      ]
    },
    {
      "cell_type": "markdown",
      "metadata": {},
      "source": [
        "La función es problemática porque no se puede adaptar para minutos adicionales o tanques adicionales de combustible. Hazlo más flexible permitiendo cualquier número de pasos basados en el tiempo y cualquier número de tanques. En lugar de usar `*args` y `**kwargs`, aprovecha el hecho de que puedes usar cualquier nombre que desees. Asegurate que la función sea más legible mediante el uso de nombres de variables que están asociados con las entradas, como `*minutes` y `**fuel_reservoirs`:"
      ]
    },
    {
      "cell_type": "code",
      "execution_count": 51,
      "metadata": {},
      "outputs": [
        {
          "name": "stdout",
          "output_type": "stream",
          "text": [
            "\n",
            "    Mision viaje Luna\n",
            "    Tiempo total de vuelo: 85 minutos\n",
            "    Total de combustible: 600000\n",
            "    \n"
          ]
        }
      ],
      "source": [
        "# Escribe tu nueva función de reporte considerando lo anterior\n",
        "def informe_mision(destino, *minutos, **reserva_combustible):\n",
        "    return f\"\"\"\n",
        "    Mision viaje {destino}\n",
        "    Tiempo total de vuelo: {sum(minutos)} minutos\n",
        "    Total de combustible: {sum(reserva_combustible.values())}\n",
        "    \"\"\"\n",
        "\n",
        "print(informe_mision(\"Luna\", 10, 15, 60, tanque_externo=400000, tanque_interno=200000))"
      ]
    },
    {
      "cell_type": "markdown",
      "metadata": {},
      "source": [
        "Debido a que el combustible que queda en los tanques es específico de cada tanque, actualiza la función para usar el nombre de cada tanque en el informe:"
      ]
    },
    {
      "cell_type": "code",
      "execution_count": 55,
      "metadata": {},
      "outputs": [
        {
          "name": "stdout",
          "output_type": "stream",
          "text": [
            "\n",
            "    Mision viaje Luna\n",
            "    Tiempo total de vuelo: 85 minutos\n",
            "    Total de combustible: 600000\n",
            "    tanque_externo --> 400000 gallones \n",
            "tanque_interno --> 200000 gallones \n",
            "\n"
          ]
        }
      ],
      "source": [
        "# Escribe tu nueva función\n",
        "def informe_mision(destino, *minutos, **reserva_combustible):\n",
        "    main_report = f\"\"\"\n",
        "    Mision viaje {destino}\n",
        "    Tiempo total de vuelo: {sum(minutos)} minutos\n",
        "    Total de combustible: {sum(reserva_combustible.values())}\n",
        "    \"\"\"\n",
        "    for tank_name, gallons in reserva_combustible.items():\n",
        "        main_report += f\"{tank_name} --> {gallons} gallones \\n\"\n",
        "    return main_report\n",
        "\n",
        "print(informe_mision(\"Luna\", 10, 15, 60, tanque_externo=400000, tanque_interno=200000))"
      ]
    },
    {
      "cell_type": "code",
      "execution_count": null,
      "metadata": {},
      "outputs": [],
      "source": []
    }
  ],
  "metadata": {
    "interpreter": {
      "hash": "205095b8b86ea82a021a8fc2ffba2b3bc9f8d0be25999901963b225939f75778"
    },
    "kernelspec": {
      "display_name": "Python 3.8.10 64-bit ('tmp': conda)",
      "name": "python3"
    },
    "language_info": {
      "codemirror_mode": {
        "name": "ipython",
        "version": 3
      },
      "file_extension": ".py",
      "mimetype": "text/x-python",
      "name": "python",
      "nbconvert_exporter": "python",
      "pygments_lexer": "ipython3",
      "version": "3.8.8"
    },
    "nteract": {
      "version": "nteract-front-end@1.0.0"
    },
    "orig_nbformat": 4
  },
  "nbformat": 4,
  "nbformat_minor": 2
}
