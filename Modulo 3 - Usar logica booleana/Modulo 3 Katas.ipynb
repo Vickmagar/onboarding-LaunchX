{
 "cells": [
  {
   "cell_type": "markdown",
   "metadata": {},
   "source": [
    "PROBLEMA 1 Alerta asteroide viaja a velocidades superiores\n",
    "\n",
    "\n"
   ]
  },
  {
   "cell_type": "code",
   "execution_count": 13,
   "metadata": {},
   "outputs": [
    {
     "name": "stdout",
     "output_type": "stream",
     "text": [
      "Radar de Asteroides\n",
      "La velocidad a la que viaja el asteroide es: 20km/s\n",
      "El radar no detecto impacto de asteroide \n"
     ]
    }
   ],
   "source": [
    "print(\"Radar de Asteroides\")\n",
    "asteroide = int( input(\"Ingresa la velocidad del Asteroide: \" ) )\n",
    "print (\"La velocidad a la que viaja el asteroide es: \" + str(asteroide) + \"km/s\" )\n",
    "if asteroide > 25:\n",
    "    print (\"¡Peligro! ¡Un asteroide viaja a gran velocidad y puede tocar tierra!\")\n",
    "else:\n",
    "    print (\"El radar no detecto impacto de asteroide \")"
   ]
  },
  {
   "cell_type": "markdown",
   "metadata": {},
   "source": [
    "PROBLEMA 2\n",
    "Asteroide entrando a la atmosfera"
   ]
  },
  {
   "cell_type": "code",
   "execution_count": 20,
   "metadata": {},
   "outputs": [
    {
     "name": "stdout",
     "output_type": "stream",
     "text": [
      "Radar de Asteroides\n",
      "La velocidad a la que viaja el asteroide es: 19km/s\n",
      "Debe ser un satelite viejo callendo\n"
     ]
    }
   ],
   "source": [
    "print(\"Radar de Asteroides\")\n",
    "asteroide = int( input(\"Ingresa la velocidad a la que entro el asteroide a la atmosfera: \" ) )\n",
    "print (\"La velocidad a la que viaja el asteroide es: \" + str(asteroide) + \"km/s\" )\n",
    "if asteroide > 20:\n",
    "    print (\"Es un asteroide grande iluminando el cielo\")\n",
    "elif asteroide == 20:\n",
    "    print (\"Es un asteroide mediano iluminando el cielo\")\n",
    "else:\n",
    "    print(\"Debe ser un satelite viejo callendo\")"
   ]
  },
  {
   "cell_type": "markdown",
   "metadata": {},
   "source": [
    "PROBLEMA 3 La SSI Reporta"
   ]
  },
  {
   "cell_type": "code",
   "execution_count": 36,
   "metadata": {},
   "outputs": [
    {
     "name": "stdout",
     "output_type": "stream",
     "text": [
      "La SSI Reporta: \n",
      "Se detecto un asteroide entrando a la atmosfera con una velocidad de: 30km/s\n",
      "Y con un diamtro de: 30mts\n",
      "La SSI informa ¡Houston tenemos un problema! Asteroide va hacia la tierra\n"
     ]
    }
   ],
   "source": [
    "print(\"La SSI Reporta: \")\n",
    "velocidad_asteroide = int( input(\"Ingresa la velocidad del Asteroide:  \" ) )\n",
    "print (\"Se detecto un asteroide entrando a la atmosfera con una velocidad de: \" + str(velocidad_asteroide) + \"km/s\" )\n",
    "tamaño_asteroide = int( input(\"Ingresa el diametro del Asteroide:  \" ) )\n",
    "print (\"Y con un diamtro de: \" + str(tamaño_asteroide) + \"mts\" )\n",
    "\n",
    "if velocidad_asteroide > 25 and tamaño_asteroide > 25:\n",
    "    print (\"La SSI informa ¡Houston tenemos un problema! Asteroide va hacia la tierra\")\n",
    "elif velocidad_asteroide >= 20:\n",
    "    print (\"Esta noche se podra ver lluvia de estrellas\")\n",
    "elif tamaño_asteroide > 25:\n",
    "    print (\"La SSI reporta un meteorito pasando muy lejos de la tierra\")\n",
    "else:\n",
    "    print(\"La SSI se va a descansar esta noche\")"
   ]
  }
 ],
 "metadata": {
  "interpreter": {
   "hash": "fbd3e93ad4c4f90be52278706fa7a4f8ae91109160051d008fe3fe85b374c780"
  },
  "kernelspec": {
   "display_name": "Python 3.8.8 ('base')",
   "language": "python",
   "name": "python3"
  },
  "language_info": {
   "codemirror_mode": {
    "name": "ipython",
    "version": 3
   },
   "file_extension": ".py",
   "mimetype": "text/x-python",
   "name": "python",
   "nbconvert_exporter": "python",
   "pygments_lexer": "ipython3",
   "version": "3.8.8"
  },
  "orig_nbformat": 4
 },
 "nbformat": 4,
 "nbformat_minor": 2
}
